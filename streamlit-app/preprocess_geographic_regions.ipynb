{
 "cells": [
  {
   "cell_type": "markdown",
   "id": "a0d68f9c-643d-4fcb-b3e0-e2f3581609fb",
   "metadata": {},
   "source": [
    "### Load necessary libraries"
   ]
  },
  {
   "cell_type": "code",
   "execution_count": 1,
   "id": "65ceb79d-3060-4d52-b0fe-84533249d421",
   "metadata": {
    "tags": []
   },
   "outputs": [],
   "source": [
    "from shapely.geometry import shape, mapping\n",
    "from shapely.ops import unary_union\n",
    "\n",
    "\n",
    "import json"
   ]
  },
  {
   "cell_type": "markdown",
   "id": "d484ae57-ad77-411d-b639-e680d4c5c5bf",
   "metadata": {},
   "source": [
    "### Read the dataset from the GeoJSON file"
   ]
  },
  {
   "cell_type": "code",
   "execution_count": 2,
   "id": "1cf2fbdc-94ff-404f-9026-12531e724358",
   "metadata": {
    "tags": []
   },
   "outputs": [],
   "source": [
    "with open('data/romania-with-regions.geojson', 'r') as file:\n",
    "    geojson_data = json.load(file)"
   ]
  },
  {
   "cell_type": "markdown",
   "id": "3d93283e-a4b3-4a9e-8c95-5014f1521e8a",
   "metadata": {},
   "source": [
    "### Group counties into historical regions"
   ]
  },
  {
   "cell_type": "markdown",
   "id": "a176cacc-cd94-40a1-b2e6-8254f6f6113a",
   "metadata": {
    "tags": []
   },
   "source": [
    "#### Define the list of counties for each region"
   ]
  },
  {
   "cell_type": "code",
   "execution_count": 3,
   "id": "9c77cc1c-1baa-4290-8d1b-d20086ae28e0",
   "metadata": {
    "tags": []
   },
   "outputs": [],
   "source": [
    "# List of regions and their corresponding counties\n",
    "regions = {\n",
    "    \"Muntenia\": [\"Prahova\", \"Buzau\", \"Arges\", \"Dambovita\", \"Ilfov\", \"Bucuresti\", \"Teleorman\", \"Giurgiu\", \"Calarasi\", \"Ialomita\", \"Braila\", \"Buzau\"],\n",
    "    \"Dobrogea\": [\"Tulcea\", \"Constanta\"],\n",
    "    \"Moldova\": [\"Suceava\", \"Botosani\", \"Iasi\", \"Neamt\", \"Bacau\", \"Vaslui\", \"Vrancea\", \"Galati\"],\n",
    "    \"Transilvania\": [\"Satu Mare\", \"Maramures\", \"Bistrita-Nasaud\", \"Salaj\", \"Bihor\", \"Arad\", \"Cluj\", \"Mures\", \"Harghita\", \"Covasna\", \"Brasov\", \"Sibiu\", \"Alba\", \"Hunedoara\"],\n",
    "    \"Banat\": [\"Timis\", \"Caras-Severin\"],\n",
    "    \"Oltenia\": [\"Mehedinti\", \"Gorj\", \"Valcea\", \"Olt\", \"Dolj\"]\n",
    "}\n",
    "\n",
    "# Function to create region features\n",
    "def create_region_feature(region_name, county_names):\n",
    "    # Collect the features for the specified counties in the region\n",
    "    region_features = []\n",
    "    for feature in geojson_data['features']:\n",
    "        if feature['properties']['name'] in county_names:\n",
    "            region_features.append(shape(feature['geometry']))\n",
    "    # Merge geometries of the counties\n",
    "    region_shape = unary_union(region_features)\n",
    "    # Create a new feature for the region\n",
    "    region_feature = {\n",
    "        'type': 'Feature',\n",
    "        'properties': {\n",
    "            'name': region_name\n",
    "        },\n",
    "        'geometry': mapping(region_shape)\n",
    "    }\n",
    "    return region_feature"
   ]
  },
  {
   "cell_type": "code",
   "execution_count": 4,
   "id": "5e6abcc1-cde3-4cc6-b37f-80e87901fa19",
   "metadata": {
    "tags": []
   },
   "outputs": [],
   "source": [
    "all_region_features = [create_region_feature(region, counties) for region, counties in regions.items()]\n",
    "\n",
    "# Create a new GeoJSON object for the updated map with regions\n",
    "all_regions_geojson = {\n",
    "    'type': 'FeatureCollection',\n",
    "    'features': all_region_features\n",
    "}\n",
    "\n",
    "with open('data/regions_final.geojson', 'w') as new_file:\n",
    "    json.dump(all_regions_geojson, new_file)\n"
   ]
  },
  {
   "cell_type": "code",
   "execution_count": null,
   "id": "b05ad483-8e78-42a3-934f-d90d7beb0b42",
   "metadata": {},
   "outputs": [],
   "source": []
  }
 ],
 "metadata": {
  "kernelspec": {
   "display_name": "Python 3 (ipykernel)",
   "language": "python",
   "name": "python3"
  },
  "language_info": {
   "codemirror_mode": {
    "name": "ipython",
    "version": 3
   },
   "file_extension": ".py",
   "mimetype": "text/x-python",
   "name": "python",
   "nbconvert_exporter": "python",
   "pygments_lexer": "ipython3",
   "version": "3.11.5"
  }
 },
 "nbformat": 4,
 "nbformat_minor": 5
}
